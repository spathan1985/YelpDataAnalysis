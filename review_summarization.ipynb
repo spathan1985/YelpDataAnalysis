{
 "cells": [
  {
   "cell_type": "code",
   "execution_count": 16,
   "metadata": {
    "collapsed": true
   },
   "outputs": [],
   "source": [
    "import json\n",
    "import sys\n",
    "\n",
    "REVIEW_DATA_FILE = \"Phoenix_restaurant_reviews.json\"\n",
    "\n",
    "# To resolve the ascii encoding error\n",
    "reload(sys)\n",
    "sys.setdefaultencoding('utf-8')\n",
    "\n",
    "\n",
    "# Code to read json data by line\n",
    "def decode_json(line):\n",
    "    try:\n",
    "        return json.loads(line)\n",
    "    except:\n",
    "        return None\n",
    "\n",
    "def read_reviews(file_name):\n",
    "    restaurant_reviews = []\n",
    "    with open(file_name) as f:\n",
    "        for line in f:\n",
    "            restaurant_reviews.append(decode_json(line))\n",
    "    return restaurant_reviews"
   ]
  },
  {
   "cell_type": "code",
   "execution_count": 17,
   "metadata": {
    "collapsed": true
   },
   "outputs": [],
   "source": [
    "restaurant_reviews = read_reviews(REVIEW_DATA_FILE)"
   ]
  },
  {
   "cell_type": "code",
   "execution_count": 18,
   "metadata": {
    "collapsed": true
   },
   "outputs": [],
   "source": [
    "import nltk\n",
    "nltk.download('averaged_perceptron_tagger')\n",
    "\n",
    "# Get positive chunk\n",
    "positiveChunkPOS_tag = \"positive: {<JJ> <NN>|<JJ> <NNS>|<RB> <JJ>|<RBR> <JJ>}\"\n",
    "def get_positive_chunks(POStagged_reviews):\n",
    "    positive_score = 0.0\n",
    "    detected_positive = False\n",
    "    positive_parser = nltk.RegexpParser(positiveChunkPOS_tag)\n",
    "    chunk_reviews = positive_parser.parse(POStagged_reviews)\n",
    "    subtrees = chunk_reviews.subtrees()\n",
    "    results_positive_phrases = []\n",
    "    for each_subtree in subtrees:\n",
    "        if each_subtree.label() == \"positive\":\n",
    "            noun_phrase = \"\"\n",
    "            (terms, tags) = zip(*each_subtree)\n",
    "            for i in range(0, len(terms)):\n",
    "                noun_phrase = noun_phrase + \" \" + terms[i]\n",
    "            polarity_score = Pattern.sentiment(noun_phrase.strip())\n",
    "            if polarity_score[0] >= (0.2) and polarity_score[1] >= 0.5:\n",
    "                results_positive_phrases.append(noun_phrase)\n",
    "                positive_score += Pattern.sentiment(noun_phrase)[0]\n",
    "                detected_positive = True\n",
    "    return detected_positive, positive_score, results_positive_phrases"
   ]
  },
  {
   "cell_type": "code",
   "execution_count": 19,
   "metadata": {
    "collapsed": true
   },
   "outputs": [],
   "source": [
    "negativeChunkPOS_tag = \"negative: {<JJ> <NN>|<JJ> <NNS>|<RB> <JJ>|<RBR> <JJ>}\"\n",
    "\n",
    "def get_negative_chunks(POStagged_reviews):\n",
    "    negative_score = 0.0\n",
    "    detected_negative = False\n",
    "    results_negative_phrases = []\n",
    "    negative_parser = nltk.RegexpParser(negativeChunkPOS_tag)\n",
    "    chunk_reviews = negative_parser.parse(POStagged_reviews)\n",
    "    subtrees = chunk_reviews.subtrees()\n",
    "    for subtree in subtrees:\n",
    "        if subtree.label() == 'negative':\n",
    "            noun_phrase = \"\"\n",
    "            (terms, tags) = zip(*subtree)\n",
    "            for i in range(0, len(terms)):\n",
    "                noun_phrase = noun_phrase + \" \" + terms[i]\n",
    "            polarity_score = Pattern.sentiment(noun_phrase.strip())\n",
    "            if polarity_score[0] <= (-0.1) and polarity_score[1] >= 0.4:\n",
    "                results_negative_phrases.append(noun_phrase)\n",
    "                negative_score += Pattern.sentiment(noun_phrase)[0]\n",
    "                detected_negative = True\n",
    "    return detected_negative, negative_score, results_negative_phrases"
   ]
  },
  {
   "cell_type": "code",
   "execution_count": 20,
   "metadata": {},
   "outputs": [],
   "source": [
    "import pattern.en as Pattern\n",
    "\n",
    "def generate_results(restaurant_reviews):\n",
    "    id = 0\n",
    "    results_csv = []\n",
    "    for each_review_list in restaurant_reviews:\n",
    "        for each_review in each_review_list:\n",
    "            id += 1\n",
    "            results_csv_row = {}\n",
    "            review_text = each_review['text']\n",
    "            results_csv_row[\"Reviews\"] = review_text\n",
    "            results_csv_row[\"Stars\"] = each_review['stars']\n",
    "            results_csv_row[\"Business Id\"] = each_review['business_id']\n",
    "            tokenize_reviews = nltk.word_tokenize(review_text)\n",
    "            POStagged_reviews = nltk.pos_tag(tokenize_reviews)\n",
    "            detected_positive, positive_score, results_positive_phrases = get_positive_chunks(POStagged_reviews)\n",
    "            detected_negative, negative_score, results_negative_phrases = get_negative_chunks(POStagged_reviews)\n",
    "            if detected_positive or detected_negative:\n",
    "                results_csv_row[\"Positive_Phrases\"] = results_positive_phrases\n",
    "                results_csv_row[\"Negative_Phrases\"] = results_negative_phrases\n",
    "                results_csv_row[\"Positive_Polarity\"] = positive_score\n",
    "                results_csv_row[\"Negative_Polarity\"] = negative_score\n",
    "                results_csv_row[\"Text sentiment\"] = Pattern.sentiment(review_text.strip())\n",
    "                results_csv.append(results_csv_row)\n",
    "    return results_csv"
   ]
  },
  {
   "cell_type": "code",
   "execution_count": 21,
   "metadata": {
    "collapsed": true
   },
   "outputs": [],
   "source": [
    "import csv\n",
    "import codecs\n",
    "\n",
    "def write_csv_output(results_csv, file_name):\n",
    "    csvfile = codecs.open(file_name.strip(\".json\") + \"_Results.csv\", 'w', 'utf-8')\n",
    "    fieldnames = [\"Business Id\", \"Reviews\", \"Stars\", \"Positive_Phrases\", \"Positive_Polarity\", \"Negative_Phrases\",\n",
    "                  \"Negative_Polarity\", \"Text sentiment\"]\n",
    "    results_writer = csv.DictWriter(csvfile, fieldnames=fieldnames)\n",
    "    for results_csv_row in results_csv:\n",
    "        results_writer.writerow(results_csv_row)"
   ]
  },
  {
   "cell_type": "code",
   "execution_count": null,
   "metadata": {},
   "outputs": [],
   "source": [
    "results_csv = generate_results(restaurant_reviews)"
   ]
  },
  {
   "cell_type": "code",
   "execution_count": 15,
   "metadata": {
    "collapsed": true
   },
   "outputs": [],
   "source": [
    "write_csv_output(results_csv, REVIEW_DATA_FILE)"
   ]
  },
  {
   "cell_type": "code",
   "execution_count": null,
   "metadata": {
    "collapsed": true
   },
   "outputs": [],
   "source": []
  }
 ],
 "metadata": {
  "kernelspec": {
   "display_name": "Python [conda root]",
   "language": "python",
   "name": "conda-root-py"
  },
  "language_info": {
   "codemirror_mode": {
    "name": "ipython",
    "version": 3
   },
   "file_extension": ".py",
   "mimetype": "text/x-python",
   "name": "python",
   "nbconvert_exporter": "python",
   "pygments_lexer": "ipython3",
   "version": "3.5.3"
  }
 },
 "nbformat": 4,
 "nbformat_minor": 1
}
