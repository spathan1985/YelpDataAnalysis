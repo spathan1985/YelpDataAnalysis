{
 "cells": [
  {
   "cell_type": "code",
   "execution_count": 1,
   "metadata": {
    "collapsed": true
   },
   "outputs": [],
   "source": [
    "import json\n",
    "import sys\n",
    "\n",
    "REVIEW_DATA_FILE = \"yelp_academic_dataset_review.json\"\n",
    "CITY = \"Phoenix\"\n",
    "BUSINESS_DATA_FILE = \"yelp_academic_dataset_business.json\"\n",
    "\n",
    "# To resolve the ascii encoding error\n",
    "reload(sys)\n",
    "sys.setdefaultencoding('utf-8')\n",
    "\n",
    "\n",
    "# Code to read json data by line\n",
    "def decode_json(line):\n",
    "    try:\n",
    "        return json.loads(line)\n",
    "    except:\n",
    "        return None\n",
    "\n",
    "def read_reviews(file_name):\n",
    "    restaurant_reviews = []\n",
    "    with open(file_name) as f:\n",
    "        for line in f:\n",
    "            restaurant_reviews.append(decode_json(line))"
   ]
  },
  {
   "cell_type": "code",
   "execution_count": 2,
   "metadata": {
    "collapsed": true
   },
   "outputs": [],
   "source": [
    "def filter_business_data(city):\n",
    "    yelp_data_business = []\n",
    "    with open(BUSINESS_DATA_FILE) as f:\n",
    "        for line in f:\n",
    "            yelp_data_business.append(decode_json(line))\n",
    "\n",
    "    business_restaurants = []\n",
    "    count = 0\n",
    "\n",
    "    for each_business in yelp_data_business:\n",
    "        if count < 50:\n",
    "            if (each_business['categories'] is not None and 'Restaurants' in each_business['categories'] and city in\n",
    "                each_business['city']):\n",
    "                business_restaurants.append(each_business)\n",
    "                count += 1\n",
    "        else:\n",
    "            break\n",
    "    return business_restaurants"
   ]
  },
  {
   "cell_type": "code",
   "execution_count": 3,
   "metadata": {
    "collapsed": true
   },
   "outputs": [],
   "source": [
    "def write_file(file_name, input):\n",
    "    with open(file_name, 'w') as output_file:\n",
    "        json.dump(input, output_file)"
   ]
  },
  {
   "cell_type": "code",
   "execution_count": 4,
   "metadata": {
    "collapsed": true
   },
   "outputs": [],
   "source": [
    "def filter_business_reviews_data(city, business_restaurants):\n",
    "    business_review_restaurants = []\n",
    "    with open(REVIEW_DATA_FILE) as f:\n",
    "        for line in f:\n",
    "            each_review_json = decode_json(line)\n",
    "            for each_restaurant in business_restaurants:\n",
    "                if each_review_json['business_id'] == each_restaurant['business_id']:\n",
    "                    business_review_restaurants.append(each_review_json)\n",
    "    return business_review_restaurants"
   ]
  },
  {
   "cell_type": "code",
   "execution_count": 5,
   "metadata": {
    "collapsed": true
   },
   "outputs": [],
   "source": [
    "business_restaurants = filter_business_data(CITY)"
   ]
  },
  {
   "cell_type": "code",
   "execution_count": 7,
   "metadata": {
    "collapsed": false
   },
   "outputs": [],
   "source": [
    "write_file(CITY + '_restaurants.json', business_restaurants)"
   ]
  },
  {
   "cell_type": "code",
   "execution_count": 8,
   "metadata": {
    "collapsed": true
   },
   "outputs": [],
   "source": [
    "business_review_restaurants = filter_business_reviews_data(CITY, business_restaurants)"
   ]
  },
  {
   "cell_type": "code",
   "execution_count": 9,
   "metadata": {
    "collapsed": false
   },
   "outputs": [],
   "source": [
    "write_file(CITY + '_restaurant_reviews.json', business_review_restaurants)"
   ]
  },
  {
   "cell_type": "code",
   "execution_count": null,
   "metadata": {
    "collapsed": true
   },
   "outputs": [],
   "source": []
  }
 ],
 "metadata": {
  "kernelspec": {
   "display_name": "Python 2",
   "language": "python",
   "name": "python2"
  },
  "language_info": {
   "codemirror_mode": {
    "name": "ipython",
    "version": 2
   },
   "file_extension": ".py",
   "mimetype": "text/x-python",
   "name": "python",
   "nbconvert_exporter": "python",
   "pygments_lexer": "ipython2",
   "version": "2.7.13"
  }
 },
 "nbformat": 4,
 "nbformat_minor": 0
}
